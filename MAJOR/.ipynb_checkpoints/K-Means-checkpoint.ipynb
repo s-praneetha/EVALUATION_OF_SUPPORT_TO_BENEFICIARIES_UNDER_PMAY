{
 "cells": [
  {
   "cell_type": "code",
   "execution_count": 1,
   "metadata": {},
   "outputs": [],
   "source": [
    "# import rcParams and set the figure size\n",
    "from pylab import rcParams\n",
    "rcParams['figure.figsize'] = 10, 5\n",
    "\n",
    "# import KMeans from sklearn\n",
    "from sklearn.cluster import KMeans\n",
    "\n",
    "## for data\n",
    "import numpy as np\n",
    "import pandas as pd\n",
    "## for plotting\n",
    "import matplotlib.pyplot as plt\n",
    "import seaborn as sns\n",
    "## for geospatial\n",
    "import folium\n",
    "import geopy\n",
    "## for machine learning\n",
    "from sklearn import preprocessing, cluster\n",
    "import scipy\n",
    "## for deep learning\n",
    "import minisom\n"
   ]
  },
  {
   "cell_type": "code",
   "execution_count": 2,
   "metadata": {},
   "outputs": [
    {
     "data": {
      "text/html": [
       "<div>\n",
       "<style scoped>\n",
       "    .dataframe tbody tr th:only-of-type {\n",
       "        vertical-align: middle;\n",
       "    }\n",
       "\n",
       "    .dataframe tbody tr th {\n",
       "        vertical-align: top;\n",
       "    }\n",
       "\n",
       "    .dataframe thead th {\n",
       "        text-align: right;\n",
       "    }\n",
       "</style>\n",
       "<table border=\"1\" class=\"dataframe\">\n",
       "  <thead>\n",
       "    <tr style=\"text-align: right;\">\n",
       "      <th></th>\n",
       "      <th>collection_sno</th>\n",
       "      <th>benid</th>\n",
       "      <th>stage</th>\n",
       "      <th>creationtime</th>\n",
       "      <th>status</th>\n",
       "      <th>app</th>\n",
       "      <th>observer_name</th>\n",
       "      <th>deviceid</th>\n",
       "      <th>lat</th>\n",
       "      <th>long</th>\n",
       "    </tr>\n",
       "  </thead>\n",
       "  <tbody>\n",
       "    <tr>\n",
       "      <th>0</th>\n",
       "      <td>4775416</td>\n",
       "      <td>031514123NG623820</td>\n",
       "      <td>Below Basement Level (BBL)</td>\n",
       "      <td>12/8/2016 11:59</td>\n",
       "      <td>1</td>\n",
       "      <td>1.7</td>\n",
       "      <td>G APPALANAIDU</td>\n",
       "      <td>AE034101</td>\n",
       "      <td>17.504740</td>\n",
       "      <td>82.943947</td>\n",
       "    </tr>\n",
       "    <tr>\n",
       "      <th>1</th>\n",
       "      <td>4775415</td>\n",
       "      <td>031514121NG623871</td>\n",
       "      <td>Lintel Level (LL)</td>\n",
       "      <td>12/8/2016 12:09</td>\n",
       "      <td>1</td>\n",
       "      <td>1.7</td>\n",
       "      <td>G APPALANAIDU</td>\n",
       "      <td>AE034101</td>\n",
       "      <td>17.455703</td>\n",
       "      <td>82.926953</td>\n",
       "    </tr>\n",
       "    <tr>\n",
       "      <th>2</th>\n",
       "      <td>4808796</td>\n",
       "      <td>031514123NG623841</td>\n",
       "      <td>Basement Level (BL)</td>\n",
       "      <td>12/19/2016 10:35</td>\n",
       "      <td>1</td>\n",
       "      <td>1.7</td>\n",
       "      <td>G APPALANAIDU</td>\n",
       "      <td>AE034101</td>\n",
       "      <td>17.477330</td>\n",
       "      <td>82.939053</td>\n",
       "    </tr>\n",
       "    <tr>\n",
       "      <th>3</th>\n",
       "      <td>4808776</td>\n",
       "      <td>031514123NG623868</td>\n",
       "      <td>Basement Level (BL)</td>\n",
       "      <td>12/19/2016 10:58</td>\n",
       "      <td>1</td>\n",
       "      <td>1.7</td>\n",
       "      <td>G APPALANAIDU</td>\n",
       "      <td>AE034101</td>\n",
       "      <td>17.476678</td>\n",
       "      <td>82.939352</td>\n",
       "    </tr>\n",
       "    <tr>\n",
       "      <th>4</th>\n",
       "      <td>4808768</td>\n",
       "      <td>031514123NG623820</td>\n",
       "      <td>Basement Level (BL)</td>\n",
       "      <td>12/19/2016 11:02</td>\n",
       "      <td>1</td>\n",
       "      <td>1.7</td>\n",
       "      <td>G APPALANAIDU</td>\n",
       "      <td>AE034101</td>\n",
       "      <td>17.462317</td>\n",
       "      <td>82.927637</td>\n",
       "    </tr>\n",
       "  </tbody>\n",
       "</table>\n",
       "</div>"
      ],
      "text/plain": [
       "   collection_sno              benid                       stage  \\\n",
       "0         4775416  031514123NG623820  Below Basement Level (BBL)   \n",
       "1         4775415  031514121NG623871           Lintel Level (LL)   \n",
       "2         4808796  031514123NG623841         Basement Level (BL)   \n",
       "3         4808776  031514123NG623868         Basement Level (BL)   \n",
       "4         4808768  031514123NG623820         Basement Level (BL)   \n",
       "\n",
       "       creationtime  status  app  observer_name  deviceid        lat  \\\n",
       "0   12/8/2016 11:59       1  1.7  G APPALANAIDU  AE034101  17.504740   \n",
       "1   12/8/2016 12:09       1  1.7  G APPALANAIDU  AE034101  17.455703   \n",
       "2  12/19/2016 10:35       1  1.7  G APPALANAIDU  AE034101  17.477330   \n",
       "3  12/19/2016 10:58       1  1.7  G APPALANAIDU  AE034101  17.476678   \n",
       "4  12/19/2016 11:02       1  1.7  G APPALANAIDU  AE034101  17.462317   \n",
       "\n",
       "        long  \n",
       "0  82.943947  \n",
       "1  82.926953  \n",
       "2  82.939053  \n",
       "3  82.939352  \n",
       "4  82.927637  "
      ]
     },
     "execution_count": 2,
     "metadata": {},
     "output_type": "execute_result"
    }
   ],
   "source": [
    "# read the data\n",
    "df_housing = pd.read_csv(\"ToDo.csv\")\n",
    "\n",
    "# print first five rows of data\n",
    "df_housing.head()"
   ]
  },
  {
   "cell_type": "code",
   "execution_count": 3,
   "metadata": {},
   "outputs": [
    {
     "data": {
      "text/plain": [
       "(10000, 10)"
      ]
     },
     "execution_count": 3,
     "metadata": {},
     "output_type": "execute_result"
    }
   ],
   "source": [
    "# check the shape of the data\n",
    "df_housing.shape"
   ]
  },
  {
   "cell_type": "code",
   "execution_count": 4,
   "metadata": {},
   "outputs": [
    {
     "data": {
      "text/plain": [
       "collection_sno      int64\n",
       "benid              object\n",
       "stage              object\n",
       "creationtime       object\n",
       "status              int64\n",
       "app               float64\n",
       "observer_name      object\n",
       "deviceid           object\n",
       "lat               float64\n",
       "long              float64\n",
       "dtype: object"
      ]
     },
     "execution_count": 4,
     "metadata": {},
     "output_type": "execute_result"
    }
   ],
   "source": [
    "# check the data types of the variables\n",
    "df_housing.dtypes"
   ]
  },
  {
   "cell_type": "code",
   "execution_count": 5,
   "metadata": {},
   "outputs": [],
   "source": [
    "# drop unwanted column\n",
    "df_housing.drop(['creationtime'], axis=1, inplace=True)"
   ]
  },
  {
   "cell_type": "code",
   "execution_count": 6,
   "metadata": {},
   "outputs": [
    {
     "data": {
      "text/html": [
       "<div>\n",
       "<style scoped>\n",
       "    .dataframe tbody tr th:only-of-type {\n",
       "        vertical-align: middle;\n",
       "    }\n",
       "\n",
       "    .dataframe tbody tr th {\n",
       "        vertical-align: top;\n",
       "    }\n",
       "\n",
       "    .dataframe thead th {\n",
       "        text-align: right;\n",
       "    }\n",
       "</style>\n",
       "<table border=\"1\" class=\"dataframe\">\n",
       "  <thead>\n",
       "    <tr style=\"text-align: right;\">\n",
       "      <th></th>\n",
       "      <th>collection_sno</th>\n",
       "      <th>benid</th>\n",
       "      <th>stage</th>\n",
       "      <th>status</th>\n",
       "      <th>app</th>\n",
       "      <th>observer_name</th>\n",
       "      <th>deviceid</th>\n",
       "      <th>lat</th>\n",
       "      <th>long</th>\n",
       "      <th>State</th>\n",
       "    </tr>\n",
       "  </thead>\n",
       "  <tbody>\n",
       "    <tr>\n",
       "      <th>0</th>\n",
       "      <td>4775416</td>\n",
       "      <td>031514123NG623820</td>\n",
       "      <td>Below Basement Level (BBL)</td>\n",
       "      <td>1</td>\n",
       "      <td>1.7</td>\n",
       "      <td>G APPALANAIDU</td>\n",
       "      <td>AE034101</td>\n",
       "      <td>17.504740</td>\n",
       "      <td>82.943947</td>\n",
       "      <td>Andhra Pradesh</td>\n",
       "    </tr>\n",
       "    <tr>\n",
       "      <th>1</th>\n",
       "      <td>4775415</td>\n",
       "      <td>031514121NG623871</td>\n",
       "      <td>Lintel Level (LL)</td>\n",
       "      <td>1</td>\n",
       "      <td>1.7</td>\n",
       "      <td>G APPALANAIDU</td>\n",
       "      <td>AE034101</td>\n",
       "      <td>17.455703</td>\n",
       "      <td>82.926953</td>\n",
       "      <td>Andhra Pradesh</td>\n",
       "    </tr>\n",
       "    <tr>\n",
       "      <th>2</th>\n",
       "      <td>4808796</td>\n",
       "      <td>031514123NG623841</td>\n",
       "      <td>Basement Level (BL)</td>\n",
       "      <td>1</td>\n",
       "      <td>1.7</td>\n",
       "      <td>G APPALANAIDU</td>\n",
       "      <td>AE034101</td>\n",
       "      <td>17.477330</td>\n",
       "      <td>82.939053</td>\n",
       "      <td>Andhra Pradesh</td>\n",
       "    </tr>\n",
       "    <tr>\n",
       "      <th>3</th>\n",
       "      <td>4808776</td>\n",
       "      <td>031514123NG623868</td>\n",
       "      <td>Basement Level (BL)</td>\n",
       "      <td>1</td>\n",
       "      <td>1.7</td>\n",
       "      <td>G APPALANAIDU</td>\n",
       "      <td>AE034101</td>\n",
       "      <td>17.476678</td>\n",
       "      <td>82.939352</td>\n",
       "      <td>Andhra Pradesh</td>\n",
       "    </tr>\n",
       "    <tr>\n",
       "      <th>4</th>\n",
       "      <td>4808768</td>\n",
       "      <td>031514123NG623820</td>\n",
       "      <td>Basement Level (BL)</td>\n",
       "      <td>1</td>\n",
       "      <td>1.7</td>\n",
       "      <td>G APPALANAIDU</td>\n",
       "      <td>AE034101</td>\n",
       "      <td>17.462317</td>\n",
       "      <td>82.927637</td>\n",
       "      <td>Andhra Pradesh</td>\n",
       "    </tr>\n",
       "  </tbody>\n",
       "</table>\n",
       "</div>"
      ],
      "text/plain": [
       "   collection_sno              benid                       stage  status  app  \\\n",
       "0         4775416  031514123NG623820  Below Basement Level (BBL)       1  1.7   \n",
       "1         4775415  031514121NG623871           Lintel Level (LL)       1  1.7   \n",
       "2         4808796  031514123NG623841         Basement Level (BL)       1  1.7   \n",
       "3         4808776  031514123NG623868         Basement Level (BL)       1  1.7   \n",
       "4         4808768  031514123NG623820         Basement Level (BL)       1  1.7   \n",
       "\n",
       "   observer_name  deviceid        lat       long           State  \n",
       "0  G APPALANAIDU  AE034101  17.504740  82.943947  Andhra Pradesh  \n",
       "1  G APPALANAIDU  AE034101  17.455703  82.926953  Andhra Pradesh  \n",
       "2  G APPALANAIDU  AE034101  17.477330  82.939053  Andhra Pradesh  \n",
       "3  G APPALANAIDU  AE034101  17.476678  82.939352  Andhra Pradesh  \n",
       "4  G APPALANAIDU  AE034101  17.462317  82.927637  Andhra Pradesh  "
      ]
     },
     "execution_count": 6,
     "metadata": {},
     "output_type": "execute_result"
    }
   ],
   "source": [
    "df_housing['State'] = 'Andhra Pradesh'\n",
    "df_housing.head(5)"
   ]
  },
  {
   "cell_type": "code",
   "execution_count": 7,
   "metadata": {},
   "outputs": [
    {
     "data": {
      "text/html": [
       "<div>\n",
       "<style scoped>\n",
       "    .dataframe tbody tr th:only-of-type {\n",
       "        vertical-align: middle;\n",
       "    }\n",
       "\n",
       "    .dataframe tbody tr th {\n",
       "        vertical-align: top;\n",
       "    }\n",
       "\n",
       "    .dataframe thead th {\n",
       "        text-align: right;\n",
       "    }\n",
       "</style>\n",
       "<table border=\"1\" class=\"dataframe\">\n",
       "  <thead>\n",
       "    <tr style=\"text-align: right;\">\n",
       "      <th></th>\n",
       "      <th>collection_sno</th>\n",
       "      <th>benid</th>\n",
       "      <th>stage</th>\n",
       "      <th>status</th>\n",
       "      <th>app</th>\n",
       "      <th>observer_name</th>\n",
       "      <th>deviceid</th>\n",
       "      <th>Latitude</th>\n",
       "      <th>Longitude</th>\n",
       "      <th>State</th>\n",
       "    </tr>\n",
       "  </thead>\n",
       "  <tbody>\n",
       "    <tr>\n",
       "      <th>0</th>\n",
       "      <td>4775416</td>\n",
       "      <td>031514123NG623820</td>\n",
       "      <td>Below Basement Level (BBL)</td>\n",
       "      <td>1</td>\n",
       "      <td>1.7</td>\n",
       "      <td>G APPALANAIDU</td>\n",
       "      <td>AE034101</td>\n",
       "      <td>17.504740</td>\n",
       "      <td>82.943947</td>\n",
       "      <td>Andhra Pradesh</td>\n",
       "    </tr>\n",
       "    <tr>\n",
       "      <th>1</th>\n",
       "      <td>4775415</td>\n",
       "      <td>031514121NG623871</td>\n",
       "      <td>Lintel Level (LL)</td>\n",
       "      <td>1</td>\n",
       "      <td>1.7</td>\n",
       "      <td>G APPALANAIDU</td>\n",
       "      <td>AE034101</td>\n",
       "      <td>17.455703</td>\n",
       "      <td>82.926953</td>\n",
       "      <td>Andhra Pradesh</td>\n",
       "    </tr>\n",
       "    <tr>\n",
       "      <th>2</th>\n",
       "      <td>4808796</td>\n",
       "      <td>031514123NG623841</td>\n",
       "      <td>Basement Level (BL)</td>\n",
       "      <td>1</td>\n",
       "      <td>1.7</td>\n",
       "      <td>G APPALANAIDU</td>\n",
       "      <td>AE034101</td>\n",
       "      <td>17.477330</td>\n",
       "      <td>82.939053</td>\n",
       "      <td>Andhra Pradesh</td>\n",
       "    </tr>\n",
       "    <tr>\n",
       "      <th>3</th>\n",
       "      <td>4808776</td>\n",
       "      <td>031514123NG623868</td>\n",
       "      <td>Basement Level (BL)</td>\n",
       "      <td>1</td>\n",
       "      <td>1.7</td>\n",
       "      <td>G APPALANAIDU</td>\n",
       "      <td>AE034101</td>\n",
       "      <td>17.476678</td>\n",
       "      <td>82.939352</td>\n",
       "      <td>Andhra Pradesh</td>\n",
       "    </tr>\n",
       "    <tr>\n",
       "      <th>4</th>\n",
       "      <td>4808768</td>\n",
       "      <td>031514123NG623820</td>\n",
       "      <td>Basement Level (BL)</td>\n",
       "      <td>1</td>\n",
       "      <td>1.7</td>\n",
       "      <td>G APPALANAIDU</td>\n",
       "      <td>AE034101</td>\n",
       "      <td>17.462317</td>\n",
       "      <td>82.927637</td>\n",
       "      <td>Andhra Pradesh</td>\n",
       "    </tr>\n",
       "  </tbody>\n",
       "</table>\n",
       "</div>"
      ],
      "text/plain": [
       "   collection_sno              benid                       stage  status  app  \\\n",
       "0         4775416  031514123NG623820  Below Basement Level (BBL)       1  1.7   \n",
       "1         4775415  031514121NG623871           Lintel Level (LL)       1  1.7   \n",
       "2         4808796  031514123NG623841         Basement Level (BL)       1  1.7   \n",
       "3         4808776  031514123NG623868         Basement Level (BL)       1  1.7   \n",
       "4         4808768  031514123NG623820         Basement Level (BL)       1  1.7   \n",
       "\n",
       "   observer_name  deviceid   Latitude  Longitude           State  \n",
       "0  G APPALANAIDU  AE034101  17.504740  82.943947  Andhra Pradesh  \n",
       "1  G APPALANAIDU  AE034101  17.455703  82.926953  Andhra Pradesh  \n",
       "2  G APPALANAIDU  AE034101  17.477330  82.939053  Andhra Pradesh  \n",
       "3  G APPALANAIDU  AE034101  17.476678  82.939352  Andhra Pradesh  \n",
       "4  G APPALANAIDU  AE034101  17.462317  82.927637  Andhra Pradesh  "
      ]
     },
     "execution_count": 7,
     "metadata": {},
     "output_type": "execute_result"
    }
   ],
   "source": [
    "df_housing = df_housing.rename(columns={'lat': 'Latitude', 'long': 'Longitude'})\n",
    "df_housing.head()"
   ]
  },
  {
   "cell_type": "code",
   "execution_count": 8,
   "metadata": {},
   "outputs": [
    {
     "name": "stdout",
     "output_type": "stream",
     "text": [
      "Vijayawada, Vijayawada (Urban), Krishna, Andhra Pradesh, 520001, India\n",
      "[lat, long]: [16.5087586, 80.6185102]\n"
     ]
    }
   ],
   "source": [
    "city = \"vijayawada\"\n",
    "## get location\n",
    "locator = geopy.geocoders.Nominatim(user_agent=\"MyCoder\")\n",
    "location = locator.geocode(city)\n",
    "print(location)\n",
    "## keep latitude and longitude only\n",
    "location = [location.latitude, location.longitude]\n",
    "print(\"[lat, long]:\", location)"
   ]
  },
  {
   "cell_type": "markdown",
   "metadata": {},
   "source": [
    "### Model Building"
   ]
  },
  {
   "cell_type": "code",
   "execution_count": 9,
   "metadata": {},
   "outputs": [],
   "source": [
    "import numpy as np\n",
    "from sklearn.cluster import KMeans\n",
    "import matplotlib.pyplot as plt\n",
    "\n",
    "def find_best_k(X, max_k=10, plot=True):\n",
    "    ## iterations\n",
    "    distortions = [] \n",
    "    for i in range(1, max_k+1):\n",
    "        if len(X) >= i:\n",
    "            model = cluster.KMeans(n_clusters=i, init='k-means++', max_iter=300, n_init=10, random_state=0)\n",
    "            model.fit(X)\n",
    "            distortions.append(model.inertia_)\n",
    "\n",
    "    ## best k: the lowest second derivative\n",
    "    k = [i*100 for i in np.diff(distortions,2)].index(min([i*100 for i in np.diff(distortions,2)]))\n",
    "\n",
    "    ## plot\n",
    "    if plot is True:\n",
    "        fig, ax = plt.subplots()\n",
    "        ax.plot(range(1, len(distortions)+1), distortions)\n",
    "        ax.axvline(k, ls='--', color=\"red\", label=\"k = \"+str(k))\n",
    "        ax.set(title='The Elbow Method', xlabel='Number of clusters', ylabel=\"Distortion\")\n",
    "        ax.legend()\n",
    "        ax.grid(True)\n",
    "        plt.show()\n",
    "    return k"
   ]
  },
  {
   "cell_type": "code",
   "execution_count": 10,
   "metadata": {},
   "outputs": [
    {
     "data": {
      "image/png": "[encoded data removed]",
      "text/plain": [
       "<Figure size 720x360 with 1 Axes>"
      ]
     },
     "metadata": {
      "needs_background": "light"
     },
     "output_type": "display_data"
    }
   ],
   "source": [
    "k = find_best_k(df_housing[[\"Latitude\",\"Longitude\"]], max_k=10, plot=True)"
   ]
  },
  {
   "cell_type": "code",
   "execution_count": 11,
   "metadata": {},
   "outputs": [],
   "source": [
    "model = cluster.KMeans(n_clusters=k, init='k-means++')"
   ]
  },
  {
   "cell_type": "code",
   "execution_count": 12,
   "metadata": {},
   "outputs": [],
   "source": [
    "def fit_ml_cluster(X, model=None, k=None, lst_2Dplot=None, figsize=(10,5)):\n",
    "    ## model\n",
    "    if (model is None) and (k is None):\n",
    "        model = cluster.AffinityPropagation()\n",
    "        print(\"--- k not defined: using Affinity Propagation ---\")\n",
    "    elif (model is None) and (k is not None):\n",
    "        model = cluster.KMeans(n_clusters=k, init='k-means++')\n",
    "        print(\"---\", \"k=\"+str(k)+\": using k-means ---\")\n",
    "\n",
    "    ## clustering\n",
    "    dtf_X = X.copy()\n",
    "    dtf_X[\"cluster\"] = model.fit_predict(X)\n",
    "    k = dtf_X[\"cluster\"].nunique()\n",
    "    print(\"--- found\", k, \"clusters ---\")\n",
    "    print(dtf_X.groupby(\"cluster\")[\"cluster\"].count().sort_values(ascending=False))\n",
    "\n",
    "    ## find real centroids\n",
    "    closest, distances = scipy.cluster.vq.vq(model.cluster_centers_, dtf_X.drop(\"cluster\", axis=1).values)\n",
    "    dtf_X[\"centroids\"] = 0\n",
    "    for i in closest:\n",
    "        dtf_X[\"centroids\"].iloc[i] = 1\n",
    "    \n",
    "    ## plot\n",
    "    if (lst_2Dplot is not None) or (X.shape[1] == 2):\n",
    "        lst_2Dplot = X.columns.tolist() if lst_2Dplot is None else lst_2Dplot\n",
    "        th_centroids = model.cluster_centers_ if \"KMeans\" in str(model) else None\n",
    "        utils_plot_cluster(dtf_X, x1=lst_2Dplot[0], x2=lst_2Dplot[1], th_centroids=th_centroids, figsize=figsize)\n",
    "\n",
    "    return model, dtf_X\n",
    "\n",
    "\n",
    "\n",
    "def utils_plot_cluster(df_housing, x1, x2, th_centroids=None, figsize=(10,5)):\n",
    "    ## plot points and real centroids\n",
    "    fig, ax = plt.subplots(figsize=figsize)\n",
    "    k = df_housing[\"cluster\"].nunique()\n",
    "    sns.scatterplot(x=x1, y=x2, data=df_housing, palette=sns.color_palette(\"bright\",k),\n",
    "                        hue='cluster', size=\"centroids\", size_order=[1,0],\n",
    "                        legend=\"brief\", ax=ax).set_title('Clustering (k='+str(k)+')')\n",
    "\n",
    "    ## plot theoretical centroids\n",
    "    if th_centroids is not None:\n",
    "        ax.scatter(th_centroids[:,df_housing.columns.tolist().index(x1)], \n",
    "                   th_centroids[:,df_housing.columns.tolist().index(x2)], \n",
    "                   s=50, c='black', marker=\"x\")\n",
    "\n",
    "    ## plot links from points to real centroids\n",
    "    # if plot_links is True:\n",
    "    #     centroids_idx = dtf[dtf[\"centroids\"]==1].index\n",
    "    #     colors = itertools.cycle('bgrcmykbgrcmykbgrcmykbgrcmyk')\n",
    "    #     for k, col in zip(range(k), colors):\n",
    "    #         class_members = dtf[\"cluster\"].values == k\n",
    "    #         cluster_center = dtf[[x1,x2]].values[centroids_idx[k]]\n",
    "    #         plt.plot(dtf[[x1,x2]].values[class_members, 0], dtf[[x1,x2]].values[class_members, 1], col + '.')\n",
    "    #         plt.plot(cluster_center[0], cluster_center[1], 'o', markerfacecolor=col, markeredgecolor='k', markersize=14)\n",
    "    #         for x in dtf[[x1,x2]].values[class_members]:\n",
    "    #             plt.plot([cluster_center[0], x[0]], \n",
    "    #                      [cluster_center[1], x[1]], \n",
    "    #                      col)\n",
    "\n",
    "    ax.grid(True)\n",
    "    plt.show()"
   ]
  },
  {
   "cell_type": "code",
   "execution_count": 13,
   "metadata": {},
   "outputs": [
    {
     "name": "stdout",
     "output_type": "stream",
     "text": [
      "--- found 5 clusters ---\n",
      "cluster\n",
      "0    2877\n",
      "2    2062\n",
      "3    1881\n",
      "1    1871\n",
      "4    1309\n",
      "Name: cluster, dtype: int64\n"
     ]
    },
    {
     "name": "stderr",
     "output_type": "stream",
     "text": [
      "/usr/local/lib/python3.7/site-packages/pandas/core/indexing.py:1636: SettingWithCopyWarning: \n",
      "A value is trying to be set on a copy of a slice from a DataFrame\n",
      "\n",
      "See the caveats in the documentation: https://pandas.pydata.org/pandas-docs/stable/user_guide/indexing.html#returning-a-view-versus-a-copy\n",
      "  self._setitem_single_block(indexer, value, name)\n"
     ]
    },
    {
     "data": {
      "image/png": "[encoded data removed]",
      "text/plain": [
       "<Figure size 720x360 with 1 Axes>"
      ]
     },
     "metadata": {
      "needs_background": "light"
     },
     "output_type": "display_data"
    }
   ],
   "source": [
    "model, dtf_X = fit_ml_cluster(X=df_housing[[\"Latitude\",\"Longitude\"]], model=model, figsize=(10,5))"
   ]
  },
  {
   "cell_type": "code",
   "execution_count": 14,
   "metadata": {},
   "outputs": [],
   "source": [
    "# consider the variables\n",
    "X = df_housing[['Latitude', 'Longitude']]"
   ]
  },
  {
   "cell_type": "code",
   "execution_count": 15,
   "metadata": {},
   "outputs": [],
   "source": [
    "# predict the values\n",
    "y_predicted = model.fit_predict(X)"
   ]
  },
  {
   "cell_type": "code",
   "execution_count": 16,
   "metadata": {},
   "outputs": [
    {
     "data": {
      "text/html": [
       "<div>\n",
       "<style scoped>\n",
       "    .dataframe tbody tr th:only-of-type {\n",
       "        vertical-align: middle;\n",
       "    }\n",
       "\n",
       "    .dataframe tbody tr th {\n",
       "        vertical-align: top;\n",
       "    }\n",
       "\n",
       "    .dataframe thead th {\n",
       "        text-align: right;\n",
       "    }\n",
       "</style>\n",
       "<table border=\"1\" class=\"dataframe\">\n",
       "  <thead>\n",
       "    <tr style=\"text-align: right;\">\n",
       "      <th></th>\n",
       "      <th>collection_sno</th>\n",
       "      <th>benid</th>\n",
       "      <th>stage</th>\n",
       "      <th>status</th>\n",
       "      <th>app</th>\n",
       "      <th>observer_name</th>\n",
       "      <th>deviceid</th>\n",
       "      <th>Latitude</th>\n",
       "      <th>Longitude</th>\n",
       "      <th>State</th>\n",
       "      <th>cluster</th>\n",
       "    </tr>\n",
       "  </thead>\n",
       "  <tbody>\n",
       "    <tr>\n",
       "      <th>0</th>\n",
       "      <td>4775416</td>\n",
       "      <td>031514123NG623820</td>\n",
       "      <td>Below Basement Level (BBL)</td>\n",
       "      <td>1</td>\n",
       "      <td>1.7</td>\n",
       "      <td>G APPALANAIDU</td>\n",
       "      <td>AE034101</td>\n",
       "      <td>17.504740</td>\n",
       "      <td>82.943947</td>\n",
       "      <td>Andhra Pradesh</td>\n",
       "      <td>1</td>\n",
       "    </tr>\n",
       "    <tr>\n",
       "      <th>1</th>\n",
       "      <td>4775415</td>\n",
       "      <td>031514121NG623871</td>\n",
       "      <td>Lintel Level (LL)</td>\n",
       "      <td>1</td>\n",
       "      <td>1.7</td>\n",
       "      <td>G APPALANAIDU</td>\n",
       "      <td>AE034101</td>\n",
       "      <td>17.455703</td>\n",
       "      <td>82.926953</td>\n",
       "      <td>Andhra Pradesh</td>\n",
       "      <td>1</td>\n",
       "    </tr>\n",
       "    <tr>\n",
       "      <th>2</th>\n",
       "      <td>4808796</td>\n",
       "      <td>031514123NG623841</td>\n",
       "      <td>Basement Level (BL)</td>\n",
       "      <td>1</td>\n",
       "      <td>1.7</td>\n",
       "      <td>G APPALANAIDU</td>\n",
       "      <td>AE034101</td>\n",
       "      <td>17.477330</td>\n",
       "      <td>82.939053</td>\n",
       "      <td>Andhra Pradesh</td>\n",
       "      <td>1</td>\n",
       "    </tr>\n",
       "    <tr>\n",
       "      <th>3</th>\n",
       "      <td>4808776</td>\n",
       "      <td>031514123NG623868</td>\n",
       "      <td>Basement Level (BL)</td>\n",
       "      <td>1</td>\n",
       "      <td>1.7</td>\n",
       "      <td>G APPALANAIDU</td>\n",
       "      <td>AE034101</td>\n",
       "      <td>17.476678</td>\n",
       "      <td>82.939352</td>\n",
       "      <td>Andhra Pradesh</td>\n",
       "      <td>1</td>\n",
       "    </tr>\n",
       "    <tr>\n",
       "      <th>4</th>\n",
       "      <td>4808768</td>\n",
       "      <td>031514123NG623820</td>\n",
       "      <td>Basement Level (BL)</td>\n",
       "      <td>1</td>\n",
       "      <td>1.7</td>\n",
       "      <td>G APPALANAIDU</td>\n",
       "      <td>AE034101</td>\n",
       "      <td>17.462317</td>\n",
       "      <td>82.927637</td>\n",
       "      <td>Andhra Pradesh</td>\n",
       "      <td>1</td>\n",
       "    </tr>\n",
       "  </tbody>\n",
       "</table>\n",
       "</div>"
      ],
      "text/plain": [
       "   collection_sno              benid                       stage  status  app  \\\n",
       "0         4775416  031514123NG623820  Below Basement Level (BBL)       1  1.7   \n",
       "1         4775415  031514121NG623871           Lintel Level (LL)       1  1.7   \n",
       "2         4808796  031514123NG623841         Basement Level (BL)       1  1.7   \n",
       "3         4808776  031514123NG623868         Basement Level (BL)       1  1.7   \n",
       "4         4808768  031514123NG623820         Basement Level (BL)       1  1.7   \n",
       "\n",
       "   observer_name  deviceid   Latitude  Longitude           State  cluster  \n",
       "0  G APPALANAIDU  AE034101  17.504740  82.943947  Andhra Pradesh        1  \n",
       "1  G APPALANAIDU  AE034101  17.455703  82.926953  Andhra Pradesh        1  \n",
       "2  G APPALANAIDU  AE034101  17.477330  82.939053  Andhra Pradesh        1  \n",
       "3  G APPALANAIDU  AE034101  17.476678  82.939352  Andhra Pradesh        1  \n",
       "4  G APPALANAIDU  AE034101  17.462317  82.927637  Andhra Pradesh        1  "
      ]
     },
     "execution_count": 16,
     "metadata": {},
     "output_type": "execute_result"
    }
   ],
   "source": [
    "# add the new column to the dataframe\n",
    "df_housing['cluster'] = y_predicted\n",
    "# display the dataframe\n",
    "df_housing.head()"
   ]
  },
  {
   "cell_type": "code",
   "execution_count": 17,
   "metadata": {},
   "outputs": [
    {
     "data": {
      "text/plain": [
       "2    2868\n",
       "4    2042\n",
       "0    1901\n",
       "3    1876\n",
       "1    1313\n",
       "Name: cluster, dtype: int64"
      ]
     },
     "execution_count": 17,
     "metadata": {},
     "output_type": "execute_result"
    }
   ],
   "source": [
    "df_housing['cluster'].value_counts()"
   ]
  },
  {
   "cell_type": "code",
   "execution_count": 18,
   "metadata": {},
   "outputs": [],
   "source": [
    "df_housing.to_csv(\"result.csv\")"
   ]
  },
  {
   "cell_type": "code",
   "execution_count": 19,
   "metadata": {},
   "outputs": [
    {
     "data": {
      "text/plain": [
       "array([1, 2, 3, 4, 0], dtype=int32)"
      ]
     },
     "execution_count": 19,
     "metadata": {},
     "output_type": "execute_result"
    }
   ],
   "source": [
    "# check the number of clusters\n",
    "df_housing['cluster'].unique()"
   ]
  },
  {
   "cell_type": "code",
   "execution_count": 20,
   "metadata": {},
   "outputs": [],
   "source": [
    "# get all the values\n",
    "X = X.values"
   ]
  },
  {
   "cell_type": "code",
   "execution_count": 21,
   "metadata": {},
   "outputs": [
    {
     "data": {
      "image/png": "[encoded data removed]",
      "text/plain": [
       "<Figure size 720x360 with 1 Axes>"
      ]
     },
     "metadata": {
      "needs_background": "light"
     },
     "output_type": "display_data"
    }
   ],
   "source": [
    "# Visualizing the clusters for k=5\n",
    "plt.scatter(X[y_predicted==0,0],X[y_predicted==0,1],s=50, c='purple',label='Cluster1')\n",
    "plt.scatter(X[y_predicted==1,0],X[y_predicted==1,1],s=50, c='blue',label='Cluster2')\n",
    "plt.scatter(X[y_predicted==2,0],X[y_predicted==2,1],s=50, c='green',label='Cluster3')\n",
    "plt.scatter(X[y_predicted==3,0],X[y_predicted==3,1],s=50, c='cyan',label='Cluster4')\n",
    "plt.scatter(X[y_predicted==4,0],X[y_predicted==4,1],s=50, c='yellow',label='Cluster5')\n",
    "\n",
    "plt.scatter(model.cluster_centers_[:,0], model.cluster_centers_[:,1],s=200,marker='s', c='red', alpha=0.7, label='Centroids')\n",
    "plt.title('Clustering')\n",
    "plt.xlabel('Latitude')\n",
    "plt.ylabel('Longitude')\n",
    "plt.legend()\n",
    "plt.show()"
   ]
  },
  {
   "cell_type": "code",
   "execution_count": 22,
   "metadata": {},
   "outputs": [
    {
     "data": {
      "text/plain": [
       "array([[13.95984041, 78.98947535],\n",
       "       [17.00106686, 82.26554616],\n",
       "       [16.26669442, 80.23052162],\n",
       "       [18.37521646, 83.40840544],\n",
       "       [14.90521147, 77.60158265]])"
      ]
     },
     "execution_count": 22,
     "metadata": {},
     "output_type": "execute_result"
    }
   ],
   "source": [
    "model.cluster_centers_"
   ]
  },
  {
   "cell_type": "code",
   "execution_count": 23,
   "metadata": {},
   "outputs": [
    {
     "data": {
      "text/plain": [
       "<AxesSubplot:xlabel='cluster', ylabel='count'>"
      ]
     },
     "execution_count": 23,
     "metadata": {},
     "output_type": "execute_result"
    },
    {
     "data": {
      "image/png": "[encoded data removed]",
      "text/plain": [
       "<Figure size 720x360 with 1 Axes>"
      ]
     },
     "metadata": {
      "needs_background": "light"
     },
     "output_type": "display_data"
    }
   ],
   "source": [
    "# use 'seaborn' library to plot a barplot for cluster size\n",
    "sns.countplot(data= df_housing, x = 'cluster')\n",
    "         \n",
    "\n",
    "# add values in the graph\n",
    "#plt.text(x = -0.15, y =6, s = np.unique(model.labels_, return_counts=True)[1][0])\n",
    "#plt.text(x = 0.8, y =9, s = np.unique(model.labels_, return_counts=True)[1][1])\n",
    "#plt.text(x = 1.9, y =5, s = np.unique(model.labels_, return_counts=True)[1][2])\n",
    "\n",
    "#plt.show()"
   ]
  },
  {
   "cell_type": "code",
   "execution_count": 24,
   "metadata": {},
   "outputs": [
    {
     "data": {
      "text/plain": [
       "dtype('int32')"
      ]
     },
     "execution_count": 24,
     "metadata": {},
     "output_type": "execute_result"
    }
   ],
   "source": [
    "# check the data type of the 'cluster'\n",
    "df_housing['cluster'].dtypes"
   ]
  },
  {
   "cell_type": "code",
   "execution_count": 25,
   "metadata": {},
   "outputs": [],
   "source": [
    "# change the data type\n",
    "df_housing = df_housing['cluster'].astype(object)"
   ]
  },
  {
   "cell_type": "code",
   "execution_count": 26,
   "metadata": {},
   "outputs": [],
   "source": [
    "# serializing our model to a file called model.pkl\n",
    "import pickle\n",
    "pickle.dump(model, open(\"model.pkl\",\"wb\"))"
   ]
  },
  {
   "cell_type": "code",
   "execution_count": null,
   "metadata": {},
   "outputs": [],
   "source": []
  }
 ],
 "metadata": {
  "kernelspec": {
   "display_name": "Python 3",
   "language": "python",
   "name": "python3"
  },
  "language_info": {
   "codemirror_mode": {
    "name": "ipython",
    "version": 3
   },
   "file_extension": ".py",
   "mimetype": "text/x-python",
   "name": "python",
   "nbconvert_exporter": "python",
   "pygments_lexer": "ipython3",
   "version": "3.7.8"
  }
 },
 "nbformat": 4,
 "nbformat_minor": 4
}
