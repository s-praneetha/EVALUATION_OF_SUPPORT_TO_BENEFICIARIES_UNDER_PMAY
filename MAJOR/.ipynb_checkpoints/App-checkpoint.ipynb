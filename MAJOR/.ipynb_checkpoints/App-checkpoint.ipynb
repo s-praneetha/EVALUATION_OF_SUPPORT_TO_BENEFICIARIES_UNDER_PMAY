{
 "cells": [
  {
   "cell_type": "code",
   "execution_count": 1,
   "metadata": {},
   "outputs": [],
   "source": [
    "import os\n",
    "import collections\n",
    "#bargraph\n",
    "import matplotlib.pyplot as plot\n",
    "from PIL import Image\n",
    "import base64\n",
    "import io\n",
    "\n",
    "## for data\n",
    "import numpy as np\n",
    "import pandas as pd\n",
    "import flask\n",
    "import pickle\n",
    "from flask import Flask, redirect, url_for, request, render_template\n",
    "from geopy.geocoders import Nominatim\n",
    "  \n",
    "# initialize Nominatim API\n",
    "geolocator = Nominatim(user_agent=\"geoapiExercises\")"
   ]
  },
  {
   "cell_type": "code",
   "execution_count": 2,
   "metadata": {},
   "outputs": [
    {
     "data": {
      "text/html": [
       "<div>\n",
       "<style scoped>\n",
       "    .dataframe tbody tr th:only-of-type {\n",
       "        vertical-align: middle;\n",
       "    }\n",
       "\n",
       "    .dataframe tbody tr th {\n",
       "        vertical-align: top;\n",
       "    }\n",
       "\n",
       "    .dataframe thead th {\n",
       "        text-align: right;\n",
       "    }\n",
       "</style>\n",
       "<table border=\"1\" class=\"dataframe\">\n",
       "  <thead>\n",
       "    <tr style=\"text-align: right;\">\n",
       "      <th></th>\n",
       "      <th>Unnamed: 0</th>\n",
       "      <th>collection_sno</th>\n",
       "      <th>benid</th>\n",
       "      <th>stage</th>\n",
       "      <th>status</th>\n",
       "      <th>app</th>\n",
       "      <th>observer_name</th>\n",
       "      <th>deviceid</th>\n",
       "      <th>Latitude</th>\n",
       "      <th>Longitude</th>\n",
       "      <th>State</th>\n",
       "      <th>cluster</th>\n",
       "    </tr>\n",
       "  </thead>\n",
       "  <tbody>\n",
       "    <tr>\n",
       "      <th>0</th>\n",
       "      <td>0</td>\n",
       "      <td>4775416</td>\n",
       "      <td>031514123NG623820</td>\n",
       "      <td>Below Basement Level (BBL)</td>\n",
       "      <td>1</td>\n",
       "      <td>1.7</td>\n",
       "      <td>G APPALANAIDU</td>\n",
       "      <td>AE034101</td>\n",
       "      <td>17.504740</td>\n",
       "      <td>82.943947</td>\n",
       "      <td>Andhra Pradesh</td>\n",
       "      <td>1</td>\n",
       "    </tr>\n",
       "    <tr>\n",
       "      <th>1</th>\n",
       "      <td>1</td>\n",
       "      <td>4775415</td>\n",
       "      <td>031514121NG623871</td>\n",
       "      <td>Lintel Level (LL)</td>\n",
       "      <td>1</td>\n",
       "      <td>1.7</td>\n",
       "      <td>G APPALANAIDU</td>\n",
       "      <td>AE034101</td>\n",
       "      <td>17.455703</td>\n",
       "      <td>82.926953</td>\n",
       "      <td>Andhra Pradesh</td>\n",
       "      <td>1</td>\n",
       "    </tr>\n",
       "    <tr>\n",
       "      <th>2</th>\n",
       "      <td>2</td>\n",
       "      <td>4808796</td>\n",
       "      <td>031514123NG623841</td>\n",
       "      <td>Basement Level (BL)</td>\n",
       "      <td>1</td>\n",
       "      <td>1.7</td>\n",
       "      <td>G APPALANAIDU</td>\n",
       "      <td>AE034101</td>\n",
       "      <td>17.477330</td>\n",
       "      <td>82.939053</td>\n",
       "      <td>Andhra Pradesh</td>\n",
       "      <td>1</td>\n",
       "    </tr>\n",
       "    <tr>\n",
       "      <th>3</th>\n",
       "      <td>3</td>\n",
       "      <td>4808776</td>\n",
       "      <td>031514123NG623868</td>\n",
       "      <td>Basement Level (BL)</td>\n",
       "      <td>1</td>\n",
       "      <td>1.7</td>\n",
       "      <td>G APPALANAIDU</td>\n",
       "      <td>AE034101</td>\n",
       "      <td>17.476678</td>\n",
       "      <td>82.939352</td>\n",
       "      <td>Andhra Pradesh</td>\n",
       "      <td>1</td>\n",
       "    </tr>\n",
       "    <tr>\n",
       "      <th>4</th>\n",
       "      <td>4</td>\n",
       "      <td>4808768</td>\n",
       "      <td>031514123NG623820</td>\n",
       "      <td>Basement Level (BL)</td>\n",
       "      <td>1</td>\n",
       "      <td>1.7</td>\n",
       "      <td>G APPALANAIDU</td>\n",
       "      <td>AE034101</td>\n",
       "      <td>17.462317</td>\n",
       "      <td>82.927637</td>\n",
       "      <td>Andhra Pradesh</td>\n",
       "      <td>1</td>\n",
       "    </tr>\n",
       "  </tbody>\n",
       "</table>\n",
       "</div>"
      ],
      "text/plain": [
       "   Unnamed: 0  collection_sno              benid                       stage  \\\n",
       "0           0         4775416  031514123NG623820  Below Basement Level (BBL)   \n",
       "1           1         4775415  031514121NG623871           Lintel Level (LL)   \n",
       "2           2         4808796  031514123NG623841         Basement Level (BL)   \n",
       "3           3         4808776  031514123NG623868         Basement Level (BL)   \n",
       "4           4         4808768  031514123NG623820         Basement Level (BL)   \n",
       "\n",
       "   status  app  observer_name  deviceid   Latitude  Longitude           State  \\\n",
       "0       1  1.7  G APPALANAIDU  AE034101  17.504740  82.943947  Andhra Pradesh   \n",
       "1       1  1.7  G APPALANAIDU  AE034101  17.455703  82.926953  Andhra Pradesh   \n",
       "2       1  1.7  G APPALANAIDU  AE034101  17.477330  82.939053  Andhra Pradesh   \n",
       "3       1  1.7  G APPALANAIDU  AE034101  17.476678  82.939352  Andhra Pradesh   \n",
       "4       1  1.7  G APPALANAIDU  AE034101  17.462317  82.927637  Andhra Pradesh   \n",
       "\n",
       "   cluster  \n",
       "0        1  \n",
       "1        1  \n",
       "2        1  \n",
       "3        1  \n",
       "4        1  "
      ]
     },
     "execution_count": 2,
     "metadata": {},
     "output_type": "execute_result"
    }
   ],
   "source": [
    "# read the data\n",
    "df_housing = pd.read_csv(\"result.csv\")\n",
    "\n",
    "# print first five rows of data\n",
    "df_housing.head()"
   ]
  },
  {
   "cell_type": "code",
   "execution_count": 3,
   "metadata": {},
   "outputs": [
    {
     "name": "stdout",
     "output_type": "stream",
     "text": [
      "[2042, 1313, 2868, 1876, 1901]\n"
     ]
    }
   ],
   "source": [
    "df_housing['cluster'].value_counts()\n",
    "arr = [0,1,2,3,4]\n",
    "for k,v in df_housing['cluster'].value_counts().iteritems():\n",
    "    arr[k] = v\n",
    "print(arr)"
   ]
  },
  {
   "cell_type": "code",
   "execution_count": 4,
   "metadata": {},
   "outputs": [
    {
     "data": {
      "text/plain": [
       "2    2868\n",
       "0    2042\n",
       "4    1901\n",
       "3    1876\n",
       "1    1313\n",
       "Name: cluster, dtype: int64"
      ]
     },
     "execution_count": 4,
     "metadata": {},
     "output_type": "execute_result"
    }
   ],
   "source": [
    "df_housing['cluster'].value_counts()"
   ]
  },
  {
   "cell_type": "code",
   "execution_count": null,
   "metadata": {},
   "outputs": [
    {
     "name": "stdout",
     "output_type": "stream",
     "text": [
      " * Serving Flask app \"__main__\" (lazy loading)\n",
      " * Environment: production\n",
      "\u001b[31m   WARNING: This is a development server. Do not use it in a production deployment.\u001b[0m\n",
      "\u001b[2m   Use a production WSGI server instead.\u001b[0m\n",
      " * Debug mode: off\n"
     ]
    },
    {
     "name": "stderr",
     "output_type": "stream",
     "text": [
      " * Running on http://127.0.0.1:5000/ (Press CTRL+C to quit)\n",
      "127.0.0.1 - - [17/Jul/2021 11:52:39] \"\u001b[37mGET / HTTP/1.1\u001b[0m\" 200 -\n"
     ]
    },
    {
     "name": "stdout",
     "output_type": "stream",
     "text": [
      "17.4766783\n",
      "82.9393517\n",
      "1\n",
      "{'village': 'Kondavaripalem', 'county': 'Rambilli', 'state_district': 'Visakhapatnam', 'state': 'Andhra Pradesh', 'postcode': '531061', 'country': 'India', 'country_code': 'in'}\n"
     ]
    },
    {
     "name": "stderr",
     "output_type": "stream",
     "text": [
      "127.0.0.1 - - [17/Jul/2021 11:53:24] \"\u001b[37mPOST /result HTTP/1.1\u001b[0m\" 200 -\n"
     ]
    },
    {
     "name": "stdout",
     "output_type": "stream",
     "text": [
      "031514123NG623868 Basement Level (BL) G APPALANAIDU\n",
      "031514123NG623868 Basement Level (BL) G APPALANAIDU\n"
     ]
    },
    {
     "name": "stderr",
     "output_type": "stream",
     "text": [
      "127.0.0.1 - - [17/Jul/2021 11:53:38] \"\u001b[37mGET / HTTP/1.1\u001b[0m\" 200 -\n"
     ]
    },
    {
     "name": "stdout",
     "output_type": "stream",
     "text": [
      "17.4557033\n",
      "82.9269533\n",
      "1\n",
      "{'village': 'Govindapalem', 'county': 'Rambilli', 'state_district': 'Visakhapatnam', 'state': 'Andhra Pradesh', 'postcode': '531061', 'country': 'India', 'country_code': 'in'}\n"
     ]
    },
    {
     "name": "stderr",
     "output_type": "stream",
     "text": [
      "127.0.0.1 - - [17/Jul/2021 11:54:22] \"\u001b[37mPOST /result HTTP/1.1\u001b[0m\" 200 -\n"
     ]
    },
    {
     "name": "stdout",
     "output_type": "stream",
     "text": [
      "031514121NG623871 Lintel Level (LL) G APPALANAIDU\n",
      "031514121NG623871 Lintel Level (LL) G APPALANAIDU\n"
     ]
    }
   ],
   "source": [
    "# creating instance of the class\n",
    "app = Flask(__name__, template_folder='templates')\n",
    "# to tell flask what url should trigger the function index()\n",
    "@app.route('/')\n",
    "@app.route('/index')\n",
    "def index():\n",
    "    msg = ' '\n",
    "    return flask.render_template('index.html',msg = msg)\n",
    "\n",
    "\n",
    "def getInfo(clusterpoint):\n",
    "    return arr[clusterpoint]\n",
    "    \n",
    "    \n",
    "# prediction function\n",
    "def ValuePredictor(to_predict_list):\n",
    "    to_predict = np.array(to_predict_list).reshape(1,2)\n",
    "    loaded_model = pickle.load(open(\"model.pkl\",\"rb\")) # load the model\n",
    "    result = loaded_model.predict(to_predict) # predict the values using loded model\n",
    "    return result[0]\n",
    "\n",
    "def StageCount(result):\n",
    "    stage_arr = []\n",
    "    for i in range(len(df_housing)):\n",
    "        row=df_housing.iloc[i]\n",
    "        if row[11]==result:\n",
    "            stage_arr.append(row[3])\n",
    "    return stage_arr\n",
    "\n",
    "def observersCount(result):\n",
    "    observer_arr = []\n",
    "    for i in range(len(df_housing)):\n",
    "        row=df_housing.iloc[i]\n",
    "        if row[11]==result:\n",
    "            observer_arr.append(row[6])\n",
    "    return observer_arr\n",
    "\n",
    "def GeotagInfo(result,Latitude,Longitude):\n",
    "    for i in range(len(df_housing)): \n",
    "        row = df_housing.iloc[i]\n",
    "        if row[11]==result and str(row[8])==Latitude and str(row[9])==Longitude:\n",
    "            print(row[2],row[3],row[6])\n",
    "            return row[2],row[3],row[6]\n",
    "    \n",
    "def inputError(Latitude,Longitude):\n",
    "    print(Latitude)\n",
    "    print(Longitude)\n",
    "    for i in range(len(df_housing)):\n",
    "        row=df_housing.iloc[i]\n",
    "        if str(row[8])==Latitude and str(row[9])==Longitude:\n",
    "            return 1\n",
    "    else:\n",
    "        return 0\n",
    "  \n",
    "@app.route('/result', methods = ['POST'])\n",
    "def result():\n",
    "    if request.method == 'POST':\n",
    "        to_predict_list = request.form.values()\n",
    "        to_predict_list = list(map(float, to_predict_list))\n",
    "        result = ValuePredictor(to_predict_list)\n",
    "        \n",
    "        Latitude = str(to_predict_list[0])\n",
    "        Longitude = str(to_predict_list[1])\n",
    "        flag = inputError(Latitude,Longitude)\n",
    "        print(flag)\n",
    "        if flag == 0:\n",
    "            return render_template('index.html',msg = \"GeoTag Not Found\")\n",
    "        \n",
    "        location = geolocator.reverse(Latitude+\",\"+Longitude)\n",
    "\n",
    "        address = location.raw['address']\n",
    "        print(address)\n",
    "\n",
    "        # traverse the data\n",
    "        city = address.get('state_district', '')\n",
    "        state = address.get('state', '')\n",
    "        zipcode = address.get('postcode')\n",
    "        village = address.get('village', '')\n",
    "        county = address.get('county', '')\n",
    "        \n",
    "        if float(result) == 0:\n",
    "            prediction='0'\n",
    "        elif float(result) == 1:\n",
    "            prediction='1'\n",
    "        elif float(result) == 2:\n",
    "            prediction='2'\n",
    "        elif float(result) == 3:\n",
    "            prediction='3'\n",
    "        elif float(result) == 4:\n",
    "            prediction='4'\n",
    "        \n",
    "        clusterCount=getInfo(result)\n",
    "        StageArr=StageCount(result)\n",
    "        ObserverArray = observersCount(result)\n",
    "        # using Counter to find frequency of elements\n",
    "        frequency = collections.Counter(StageArr)\n",
    "        #For Bargraph\n",
    "        bargraph_arr1=[]\n",
    "        bargraph_arr2=[]\n",
    "        for i,j in frequency.items():\n",
    "            bargraph_arr1.append(i)\n",
    "            bargraph_arr2.append(j)\n",
    "        plot.bar(bargraph_arr1, bargraph_arr2)\n",
    "        plot.suptitle('PROGRESS vs COUNT')\n",
    "        plot.xticks(rotation='82.5')\n",
    "        plot.savefig('/Users/praneethaseethepalli/Downloads/MINIPROJECT/templates/foo.jpg',dpi=400)\n",
    "        im = Image.open(\"/Users/praneethaseethepalli/Downloads/MINIPROJECT/templates/foo.jpg\")\n",
    "        data = io.BytesIO()\n",
    "        im.save(data, \"JPEG\")\n",
    "        encoded_img_data = base64.b64encode(data.getvalue())\n",
    "        #for observer key value pairs\n",
    "        cluster_observername=collections.Counter(ObserverArray)  \n",
    "        # printing the frequency\n",
    "        ns=dict(frequency).get(\"(NS)\")\n",
    "        bbl=dict(frequency).get(\"(BBL)\")\n",
    "        bl=dict(frequency).get(\"(BL)\")\n",
    "        ll=dict(frequency).get(\"(LL)\")\n",
    "        rf=dict(frequency).get(\"(RL)\")\n",
    "        rc=dict(frequency).get(\"(RC)\")\n",
    "        rcisl=dict(frequency).get(\"(RCISL)\")\n",
    "        #geotag info\n",
    "#         GeotagInfo(result,Latitude,Longitude) \n",
    "        benid,present_stage,obsname=GeotagInfo(result,Latitude,Longitude)\n",
    "        print(benid,present_stage,obsname)\n",
    "        \n",
    "        \n",
    "        return render_template(\"result.html\",prediction=prediction,projCount=clusterCount,City=city,State=state,Zipcode=zipcode,Village=village,County=county,ns=ns,bbl=bbl,bl=bl,ll=ll,rf=rf,rc=rc,rcisl=rcisl,observerinfo=cluster_observername,img_data=encoded_img_data.decode('utf-8'),benid=benid,present_stage=present_stage,obsname=obsname)\n",
    "\n",
    "if __name__ == \"__main__\":\n",
    "    app.run(debug=False) # use debug = False for jupyter notebook"
   ]
  },
  {
   "cell_type": "code",
   "execution_count": null,
   "metadata": {},
   "outputs": [],
   "source": []
  },
  {
   "cell_type": "code",
   "execution_count": null,
   "metadata": {},
   "outputs": [],
   "source": []
  }
 ],
 "metadata": {
  "kernelspec": {
   "display_name": "Python 3",
   "language": "python",
   "name": "python3"
  },
  "language_info": {
   "codemirror_mode": {
    "name": "ipython",
    "version": 3
   },
   "file_extension": ".py",
   "mimetype": "text/x-python",
   "name": "python",
   "nbconvert_exporter": "python",
   "pygments_lexer": "ipython3",
   "version": "3.7.8"
  }
 },
 "nbformat": 4,
 "nbformat_minor": 4
}
